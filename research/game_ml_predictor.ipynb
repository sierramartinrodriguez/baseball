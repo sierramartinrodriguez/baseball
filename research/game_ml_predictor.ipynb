{
 "cells": [
  {
   "cell_type": "code",
   "execution_count": 1,
   "metadata": {},
   "outputs": [],
   "source": [
    "import pandas as pd\n",
    "import mlbstatsapi"
   ]
  },
  {
   "cell_type": "code",
   "execution_count": 2,
   "metadata": {},
   "outputs": [],
   "source": [
    "mlb = mlbstatsapi.Mlb()"
   ]
  },
  {
   "cell_type": "code",
   "execution_count": 4,
   "metadata": {},
   "outputs": [],
   "source": [
    "stats = ['season', 'seasonAdvanced']\n",
    "groups = ['hitting', 'pitching']\n",
    "params = {'season': 2024}"
   ]
  },
  {
   "cell_type": "code",
   "execution_count": 10,
   "metadata": {},
   "outputs": [
    {
     "data": {
      "text/plain": [
       "{'hitting': {'season': Stat(group=hitting, type=season),\n",
       "  'seasonadvanced': Stat(group=hitting, type=seasonAdvanced)},\n",
       " 'pitching': {'season': Stat(group=pitching, type=season),\n",
       "  'seasonadvanced': Stat(group=pitching, type=seasonAdvanced)}}"
      ]
     },
     "execution_count": 10,
     "metadata": {},
     "output_type": "execute_result"
    }
   ],
   "source": [
    "ts = mlb.get_team_stats(110, stats=stats, groups=groups, **params)\n",
    "ts"
   ]
  },
  {
   "cell_type": "code",
   "execution_count": 15,
   "metadata": {},
   "outputs": [
    {
     "name": "stdout",
     "output_type": "stream",
     "text": [
      "flyouts\n",
      "atbats\n",
      "caughtstealing\n",
      "stolenbasepercentage\n",
      "numberofpitches\n",
      "groundoutstoairouts\n",
      "atbatsperhomerun\n"
     ]
    }
   ],
   "source": [
    "team_season_hitting = ts['hitting']['season']\n",
    "\n",
    "keep = [\"gamesplayed\", \"avg\", \"plateappearances\", \"obp\", \"slg\", \"ops\", \"stolenbasespercentage\"]\n",
    "needs_normalized = [\"groundouts\", \"airouts\", \"flyouts\", \"runs\", \"doubles\",\n",
    "                    \"triples\", \"homeruns\", \"strikeouts\", \"baseonballs\",\n",
    "                    \"intentionalwalks\", \"hits\", \"hitbypitch\", \"stolenbases\",\n",
    "                    \"groundintodoubleplay\", \"groundintotripleplay\", \"caughtstealing\"\n",
    "                    \"totalbases\", \"rbi\", \"leftonbase\", \"sacbunts\", \"sacflies\", \"babip\",\n",
    "                    \"catchersinterference\"]\n",
    "\n",
    "for split in team_season_hitting.splits:\n",
    "    for k, v in split.stat.__dict__.items():\n",
    "        if k not in keep and k not in needs_normalized:\n",
    "            print(k)"
   ]
  },
  {
   "cell_type": "code",
   "execution_count": null,
   "metadata": {},
   "outputs": [],
   "source": []
  }
 ],
 "metadata": {
  "kernelspec": {
   "display_name": "Python 3",
   "language": "python",
   "name": "python3"
  },
  "language_info": {
   "codemirror_mode": {
    "name": "ipython",
    "version": 3
   },
   "file_extension": ".py",
   "mimetype": "text/x-python",
   "name": "python",
   "nbconvert_exporter": "python",
   "pygments_lexer": "ipython3",
   "version": "3.11.4"
  }
 },
 "nbformat": 4,
 "nbformat_minor": 2
}
