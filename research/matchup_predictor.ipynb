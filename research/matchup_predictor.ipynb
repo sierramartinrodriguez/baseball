{
 "cells": [
  {
   "cell_type": "code",
   "execution_count": 65,
   "metadata": {},
   "outputs": [],
   "source": [
    "import pandas as pd\n",
    "import mlbstatsapi"
   ]
  },
  {
   "cell_type": "code",
   "execution_count": 66,
   "metadata": {},
   "outputs": [],
   "source": [
    "# create mlb instance\n",
    "mlb = mlbstatsapi.Mlb()"
   ]
  },
  {
   "cell_type": "code",
   "execution_count": 5,
   "metadata": {},
   "outputs": [
    {
     "name": "stdout",
     "output_type": "stream",
     "text": [
      "ScheduleGames(gamepk=746441, link=/api/v1.1/game/746441/feed/live)\n",
      "ScheduleGames(gamepk=747005, link=/api/v1.1/game/747005/feed/live)\n",
      "ScheduleGames(gamepk=745546, link=/api/v1.1/game/745546/feed/live)\n",
      "ScheduleGames(gamepk=745060, link=/api/v1.1/game/745060/feed/live)\n",
      "ScheduleGames(gamepk=746683, link=/api/v1.1/game/746683/feed/live)\n",
      "ScheduleGames(gamepk=746926, link=/api/v1.1/game/746926/feed/live)\n",
      "ScheduleGames(gamepk=745787, link=/api/v1.1/game/745787/feed/live)\n",
      "ScheduleGames(gamepk=745149, link=/api/v1.1/game/745149/feed/live)\n",
      "ScheduleGames(gamepk=746365, link=/api/v1.1/game/746365/feed/live)\n",
      "ScheduleGames(gamepk=746763, link=/api/v1.1/game/746763/feed/live)\n",
      "ScheduleGames(gamepk=745958, link=/api/v1.1/game/745958/feed/live)\n",
      "ScheduleGames(gamepk=746197, link=/api/v1.1/game/746197/feed/live)\n",
      "ScheduleGames(gamepk=747167, link=/api/v1.1/game/747167/feed/live)\n",
      "ScheduleGames(gamepk=745389, link=/api/v1.1/game/745389/feed/live)\n",
      "ScheduleGames(gamepk=745309, link=/api/v1.1/game/745309/feed/live)\n"
     ]
    }
   ],
   "source": [
    "schedule = mlb.get_scheduled_games_by_date(\"2024-07-30\")\n",
    "\n",
    "for game in schedule:\n",
    "    print(game)"
   ]
  },
  {
   "cell_type": "code",
   "execution_count": 67,
   "metadata": {},
   "outputs": [
    {
     "data": {
      "text/plain": [
       "Linescore(scheduledinnings=9, innings=[LinescoreInning(num=1, ordinalnum='1st', home=LinescoreTeamScoreing(hits=2, errors=0, leftonbase=1, runs=1, iswinner=None), away=LinescoreTeamScoreing(hits=1, errors=0, leftonbase=1, runs=0, iswinner=None)), LinescoreInning(num=2, ordinalnum='2nd', home=LinescoreTeamScoreing(hits=0, errors=0, leftonbase=0, runs=0, iswinner=None), away=LinescoreTeamScoreing(hits=0, errors=0, leftonbase=0, runs=0, iswinner=None)), LinescoreInning(num=3, ordinalnum='3rd', home=LinescoreTeamScoreing(hits=5, errors=0, leftonbase=1, runs=3, iswinner=None), away=LinescoreTeamScoreing(hits=0, errors=0, leftonbase=0, runs=0, iswinner=None)), LinescoreInning(num=4, ordinalnum='4th', home=LinescoreTeamScoreing(hits=2, errors=0, leftonbase=1, runs=1, iswinner=None), away=LinescoreTeamScoreing(hits=1, errors=1, leftonbase=2, runs=1, iswinner=None)), LinescoreInning(num=5, ordinalnum='5th', home=LinescoreTeamScoreing(hits=1, errors=0, leftonbase=0, runs=1, iswinner=None), away=LinescoreTeamScoreing(hits=0, errors=0, leftonbase=0, runs=0, iswinner=None)), LinescoreInning(num=6, ordinalnum='6th', home=LinescoreTeamScoreing(hits=0, errors=0, leftonbase=0, runs=0, iswinner=None), away=LinescoreTeamScoreing(hits=0, errors=0, leftonbase=2, runs=0, iswinner=None)), LinescoreInning(num=7, ordinalnum='7th', home=LinescoreTeamScoreing(hits=0, errors=0, leftonbase=3, runs=0, iswinner=None), away=LinescoreTeamScoreing(hits=3, errors=0, leftonbase=2, runs=1, iswinner=None)), LinescoreInning(num=8, ordinalnum='8th', home=LinescoreTeamScoreing(hits=1, errors=0, leftonbase=2, runs=0, iswinner=None), away=LinescoreTeamScoreing(hits=0, errors=0, leftonbase=0, runs=0, iswinner=None)), LinescoreInning(num=9, ordinalnum='9th', home=LinescoreTeamScoreing(hits=0, errors=0, leftonbase=0, runs=None, iswinner=None), away=LinescoreTeamScoreing(hits=0, errors=0, leftonbase=0, runs=0, iswinner=None))], teams=LinescoreTeams(home=LinescoreTeamScoreing(hits=11, errors=0, leftonbase=8, runs=6, iswinner=None), away=LinescoreTeamScoreing(hits=5, errors=1, leftonbase=7, runs=2, iswinner=None)), defense=LinescoreDefense(team=Team(id=110, link=/api/v1/teams/110, name=Baltimore Orioles), pitcher=Person(id=622554, link=/api/v1/people/622554, fullname=Seranthony Domínguez), catcher=Person(id=668939, link=/api/v1/people/668939, fullname=Adley Rutschman), first=Person(id=663624, link=/api/v1/people/663624, fullname=Ryan Mountcastle), second=Person(id=676059, link=/api/v1/people/676059, fullname=Jordan Westburg), third=Person(id=602104, link=/api/v1/people/602104, fullname=Ramón Urías), shortstop=Person(id=683002, link=/api/v1/people/683002, fullname=Gunnar Henderson), left=Person(id=681297, link=/api/v1/people/681297, fullname=Colton Cowser), center=Person(id=656775, link=/api/v1/people/656775, fullname=Cedric Mullins), right=Person(id=623993, link=/api/v1/people/623993, fullname=Anthony Santander), batter=Person(id=683002, link=/api/v1/people/683002, fullname=Gunnar Henderson), ondeck=Person(id=623993, link=/api/v1/people/623993, fullname=Anthony Santander), inhole=Person(id=656811, link=/api/v1/people/656811, fullname=Ryan O'Hearn), battingorder=3), offense=LinescoreOffense(team=Team(id=141, link=/api/v1/teams/141, name=Toronto Blue Jays), batter=Person(id=672642, link=/api/v1/people/672642, fullname=Steward Berroa), ondeck=Person(id=543807, link=/api/v1/people/543807, fullname=George Springer), inhole=Person(id=662139, link=/api/v1/people/662139, fullname=Daulton Varsho), pitcher=Person(id=647315, link=/api/v1/people/647315, fullname=Zach Pop), battingorder=9), balls=1, strikes=3, outs=3, currentinning=9, currentinningordinal=9th, inningstate=Top, inninghalf=Top, istopinning=True)"
      ]
     },
     "execution_count": 67,
     "metadata": {},
     "output_type": "execute_result"
    }
   ],
   "source": [
    "game = mlb.get_game(747005)\n",
    "play_by_play = game.livedata.linescore\n",
    "play_by_play"
   ]
  },
  {
   "cell_type": "code",
   "execution_count": 84,
   "metadata": {},
   "outputs": [],
   "source": [
    "def get_runners(runners):\n",
    "    on = []\n",
    "    return_dict = {}\n",
    "\n",
    "    for individual_runner in runners:\n",
    "        if individual_runner.movement.originbase: \n",
    "            on.append(individual_runner.movement.originbase)\n",
    "            \n",
    "    first = '1B' in on\n",
    "    second = '2B' in on\n",
    "    third = '3B' in on\n",
    "\n",
    "\n",
    "    return_dict['first'] = first\n",
    "    return_dict['second'] = second\n",
    "    return_dict['third'] = third\n",
    "\n",
    "    return return_dict"
   ]
  },
  {
   "cell_type": "code",
   "execution_count": 85,
   "metadata": {},
   "outputs": [
    {
     "data": {
      "text/plain": [
       "{'type': 'atBat',\n",
       " 'rbi': 0,\n",
       " 'away_score': 0,\n",
       " 'home_score': 0,\n",
       " 'event_type': 'field_out',\n",
       " 'out': True,\n",
       " 'top': True,\n",
       " 'inning': 1,\n",
       " 'hitter_id': 543807,\n",
       " 'hitter_hand': 'R',\n",
       " 'pitcher_id': 669203,\n",
       " 'pitcher_hand': 'R',\n",
       " 'first': False,\n",
       " 'second': False,\n",
       " 'third': False}"
      ]
     },
     "execution_count": 85,
     "metadata": {},
     "output_type": "execute_result"
    }
   ],
   "source": [
    "playbyplay = mlb.get_game_play_by_play(747005)\n",
    "\n",
    "#for p in playbyplay\n",
    "r = playbyplay.allplays[0].result # have result, \n",
    "atbat_dict = {\"type\": r.type, \"rbi\" : r.rbi, \"away_score\" : r.awayscore, \"home_score\" : r.homescore, \"event_type\" : r.eventtype, \"out\" : r.isout} # this gives us type = atBat which is what we want. also awayscore, homescore, event, eventtype, don't need desc, want isout\n",
    "a = playbyplay.allplays[0].about\n",
    "atbat_dict['top'] = a.istopinning\n",
    "atbat_dict['inning'] = a.inning\n",
    "\n",
    "m = playbyplay.allplays[0].matchup\n",
    "atbat_dict['hitter_id'] = m.batter.id\n",
    "atbat_dict['hitter_hand'] = m.batside.code\n",
    "atbat_dict['pitcher_id'] = m.pitcher.id\n",
    "atbat_dict['pitcher_hand'] = m.pitchhand.code\n",
    "\n",
    "runners = get_runners(playbyplay.allplays[0].runners)\n",
    "atbat_dict['first'] = runners['first']\n",
    "atbat_dict['second'] = runners['second']\n",
    "atbat_dict['third'] = runners['third']\n",
    "\n",
    "atbat_dict"
   ]
  },
  {
   "cell_type": "code",
   "execution_count": 87,
   "metadata": {},
   "outputs": [
    {
     "name": "stdout",
     "output_type": "stream",
     "text": [
      "gamesplayed 104\n",
      "flyouts None\n",
      "groundouts 122\n",
      "airouts 93\n",
      "runs 54\n",
      "doubles 16\n",
      "triples 1\n",
      "homeruns 13\n",
      "strikeouts 81\n",
      "baseonballs 45\n",
      "intentionalwalks 0\n",
      "hits 86\n",
      "hitbypitch 2\n",
      "avg .226\n",
      "atbats 380\n",
      "obp .310\n",
      "slg .376\n",
      "ops .686\n",
      "caughtstealing 0\n",
      "stolenbases 13\n",
      "stolenbasepercentage 1.000\n",
      "groundintodoubleplay 14\n",
      "groundintotripleplay None\n",
      "numberofpitches 1610\n",
      "plateappearances 430\n",
      "totalbases 143\n",
      "rbi 41\n",
      "leftonbase 153\n",
      "sacbunts 0\n",
      "sacflies 2\n",
      "babip .253\n",
      "groundoutstoairouts 1.31\n",
      "catchersinterference 1\n",
      "atbatsperhomerun 29.23\n"
     ]
    }
   ],
   "source": [
    "# get batter stats\n",
    "stats = ['season']\n",
    "groups = ['hitting']\n",
    "params = {'season': 2024}\n",
    "\n",
    "stat_dict = mlb.get_player_stats(543807, stats=stats, groups=groups, **params)\n",
    "season_hitting_stat = stat_dict['hitting']['season']\n",
    "\n",
    "normalize = ['runs', 'doubles', 'triples', 'homeruns', 'strikeouts',\n",
    "             'baseonballs', 'hits', 'hitbypitch', 'caughtstealing',\n",
    "             'stolenbases']\n",
    "keep = ['avg', 'obp', 'slg', 'ops', 'stolenbasepercentage']\n",
    "\n",
    "for split in season_hitting_stat.splits:\n",
    "     for k, v in split.stat.__dict__.items():\n",
    "        print(k, v)\n"
   ]
  },
  {
   "cell_type": "code",
   "execution_count": 71,
   "metadata": {},
   "outputs": [
    {
     "name": "stdout",
     "output_type": "stream",
     "text": [
      "[]\n",
      "[]\n",
      "[]\n",
      "[]\n",
      "[]\n",
      "['1B']\n",
      "[]\n",
      "['1B', '1B']\n",
      "[]\n",
      "[]\n",
      "[]\n",
      "[]\n",
      "[]\n",
      "[]\n",
      "[]\n",
      "[]\n",
      "[]\n",
      "[]\n",
      "[]\n",
      "[]\n",
      "['1B']\n",
      "['2B', '1B']\n",
      "['3B', '2B', '1B']\n",
      "['2B', '3B']\n",
      "[]\n",
      "[]\n",
      "[]\n",
      "['1B', '1B']\n",
      "['3B']\n",
      "['1B']\n",
      "[]\n",
      "[]\n",
      "[]\n",
      "['1B', '2B']\n",
      "['1B']\n",
      "[]\n",
      "[]\n",
      "[]\n",
      "[]\n",
      "[]\n",
      "[]\n",
      "[]\n",
      "[]\n",
      "[]\n",
      "[]\n",
      "[]\n",
      "['1B']\n",
      "['1B']\n",
      "[]\n",
      "[]\n",
      "[]\n",
      "[]\n",
      "['1B']\n",
      "[]\n",
      "['1B']\n",
      "['2B', '1B']\n",
      "[]\n",
      "[]\n",
      "[]\n",
      "[]\n",
      "['1B']\n",
      "['2B', '1B']\n",
      "[]\n",
      "[]\n",
      "[]\n",
      "[]\n",
      "[]\n",
      "[]\n",
      "['1B']\n",
      "[]\n",
      "[]\n",
      "[]\n",
      "[]\n",
      "[]\n"
     ]
    }
   ],
   "source": [
    "for r in playbyplay.allplays:\n",
    "    # print(r.runners)\n",
    "    on = []\n",
    "    \n",
    "    if len(r.runners) > 1:\n",
    "        for individual_runner in r.runners:\n",
    "            if individual_runner.movement.originbase: \n",
    "                on.append(individual_runner.movement.originbase)\n",
    "\n",
    "    print(on)\n",
    "            "
   ]
  },
  {
   "cell_type": "code",
   "execution_count": null,
   "metadata": {},
   "outputs": [],
   "source": []
  }
 ],
 "metadata": {
  "kernelspec": {
   "display_name": "Python 3",
   "language": "python",
   "name": "python3"
  },
  "language_info": {
   "codemirror_mode": {
    "name": "ipython",
    "version": 3
   },
   "file_extension": ".py",
   "mimetype": "text/x-python",
   "name": "python",
   "nbconvert_exporter": "python",
   "pygments_lexer": "ipython3",
   "version": "3.11.4"
  }
 },
 "nbformat": 4,
 "nbformat_minor": 2
}
